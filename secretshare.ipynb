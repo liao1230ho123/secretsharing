{
 "cells": [
  {
   "cell_type": "code",
   "execution_count": 1,
   "metadata": {
    "colab": {
     "base_uri": "https://localhost:8080/",
     "height": 374
    },
    "colab_type": "code",
    "executionInfo": {
     "elapsed": 1542,
     "status": "error",
     "timestamp": 1582293991282,
     "user": {
      "displayName": "Liao Yi-Chieh",
      "photoUrl": "",
      "userId": "02008147160041177811"
     },
     "user_tz": -480
    },
    "id": "RtglI8xNCPn3",
    "outputId": "e894cc6b-e51e-4b18-fe4c-e6d9e73c5f09"
   },
   "outputs": [
    {
     "ename": "ModuleNotFoundError",
     "evalue": "ignored",
     "output_type": "error",
     "traceback": [
      "\u001b[0;31m---------------------------------------------------------------------------\u001b[0m",
      "\u001b[0;31mModuleNotFoundError\u001b[0m                       Traceback (most recent call last)",
      "\u001b[0;32m<ipython-input-1-4ed372aa1e9d>\u001b[0m in \u001b[0;36m<module>\u001b[0;34m()\u001b[0m\n\u001b[1;32m      3\u001b[0m \u001b[0;32mimport\u001b[0m \u001b[0msys\u001b[0m\u001b[0;34m\u001b[0m\u001b[0;34m\u001b[0m\u001b[0m\n\u001b[1;32m      4\u001b[0m \u001b[0;32mfrom\u001b[0m \u001b[0mfunctools\u001b[0m \u001b[0;32mimport\u001b[0m \u001b[0mreduce\u001b[0m\u001b[0;34m\u001b[0m\u001b[0;34m\u001b[0m\u001b[0m\n\u001b[0;32m----> 5\u001b[0;31m \u001b[0;32mfrom\u001b[0m \u001b[0mCrypto\u001b[0m\u001b[0;34m.\u001b[0m\u001b[0mCipher\u001b[0m \u001b[0;32mimport\u001b[0m \u001b[0mAES\u001b[0m\u001b[0;34m\u001b[0m\u001b[0;34m\u001b[0m\u001b[0m\n\u001b[0m\u001b[1;32m      6\u001b[0m \u001b[0;32mfrom\u001b[0m \u001b[0mCrypto\u001b[0m\u001b[0;34m.\u001b[0m\u001b[0mUtil\u001b[0m \u001b[0;32mimport\u001b[0m \u001b[0mCounter\u001b[0m\u001b[0;34m\u001b[0m\u001b[0;34m\u001b[0m\u001b[0m\n\u001b[1;32m      7\u001b[0m \u001b[0;32mfrom\u001b[0m \u001b[0mCrypto\u001b[0m \u001b[0;32mimport\u001b[0m \u001b[0mRandom\u001b[0m\u001b[0;34m\u001b[0m\u001b[0;34m\u001b[0m\u001b[0m\n",
      "\u001b[0;31mModuleNotFoundError\u001b[0m: No module named 'Crypto'",
      "",
      "\u001b[0;31m---------------------------------------------------------------------------\u001b[0;32m\nNOTE: If your import is failing due to a missing package, you can\nmanually install dependencies using either !pip or !apt.\n\nTo view examples of installing some common dependencies, click the\n\"Open Examples\" button below.\n\u001b[0;31m---------------------------------------------------------------------------\u001b[0m\n"
     ]
    }
   ],
   "source": [
    "import random\n",
    "from random import randint\n",
    "import sys\n",
    "from functools import reduce\n",
    "from Crypto.Cipher import AES\n",
    "from Crypto.Util import Counter\n",
    "from Crypto import Random \n",
    "\n",
    "# A cryptographically strong version of Python's standard \"random\" module\n",
    "\n",
    "# Implementation notes:\n",
    "# Since AES uses block length of 16 bytes, we use \"ctr = Counter.new(128)\"\n",
    "# Since counter is a stateful function, we need 2 objects - one for encoding, one for decoding\n",
    "class secretshare:\n",
    "    '''\n",
    "    Base class for Secret Sharing Schemes (SSS) that implements (k,n)-threshold sharing.\n",
    "    Encryption: Use AES-256 to encode infile and save into outfile, then split AES key into n keys\n",
    "    Decryption: Combine k keys into AES key and decrypt outfile\n",
    "    Other SSS classes extend from this and implement their methods of splitting the AES key and combining keys\n",
    "    Conventions:\n",
    "    S = secret = AES key\n",
    "    After splitting up a \"key\", we get \"keys\"/\"shares\"/\"shadows\"\n",
    "    '''\n",
    "    def __init__(self):\n",
    "        '''\n",
    "        Initialises a huge prime p for modulo (if needed), where S < p.\n",
    "        Since S is 32 bytes, p has to be > 256 bits.\n",
    "        Source: http://primes.utm.edu/lists/2small/200bit.html\n",
    "        Verification: http://www.wolframalpha.com/input/?i=is+2%5E257+-+93+prime\n",
    "        '''\n",
    "        # You can randomly generate this if you wish to\n",
    "        self.p = 2**257 - 93\n",
    "        print(\"in init\")\n",
    "    def split_key(self, key, n, k):\n",
    "        '''\n",
    "        Generates coefficient vector a with a[0] = S\n",
    "        Sample polynomial q(i) at i = 1, 2, ... , n\n",
    "        \n",
    "        Key i = [i, q(i)]\n",
    "        '''\n",
    "\n",
    "        # Generate coefficient vector a\n",
    "        a = [int.from_bytes(key, byteorder = sys.byteorder)]\n",
    "        for i in range(k-1):\n",
    "            a.append(random.randint(0, 2**256))\n",
    "\n",
    "        # Polynomial q(x) = a_0 + a_1 * x + a2 * x^2 + ... + a_(k-1) * x^(k-1) (mod p)\n",
    "        # Generate q(1), q(2), ... , q(n) (mod p)\n",
    "        keys = []\n",
    "        for i in range(1, n+1):\n",
    "            x = [i ** j for j in range(k)]\n",
    "            keys.append([i, sum(a[j] * x[j] % self.p for j in range(k)) % self.p])\n",
    "\n",
    "        # Return keys\n",
    "        return keys\n",
    "    def combine_keys(self, keys):\n",
    "        '''\n",
    "        Extract x and y = q(x) from keys\n",
    "        Apply Lagrange interpolation to compute q(0) = S\n",
    "        \n",
    "        Key = q(0)\n",
    "        '''\n",
    "\n",
    "        # keys[i][0] = x value\n",
    "        # keys[i][1] = q(x) value\n",
    "        k = len(keys)\n",
    "        x = [keys[i][0] for i in range(k)]\n",
    "        y = [keys[i][1] for i in range(k)]\n",
    "        print(x,y)\n",
    "        # Find q(0) by directly applying definition of Lagrange interpolation formula\n",
    "        # Secret S = AES key = q(0)\n",
    "        #\n",
    "        # Implementation notes:\n",
    "        # Take modulo (2 ** 256) because insufficent/invalid keys may result in S > 256 bits\n",
    "        # If S > 256 bits, then it will crash in the conversion to 32 byte representation\n",
    "        S = int(sum(y[j] * basis(x, k, j, self.p) % self.p for j in range(k)) % self.p) % (2 ** 256)\n",
    "        print(\"cobine:\",S)\n",
    "        key = S.to_bytes(32, byteorder = sys.byteorder)\n",
    "\n",
    "        # Return key\n",
    "        return key\n",
    "\n",
    "    def encrypt(self, infile, outfile, keysfile, n, k):\n",
    "        '''\n",
    "        Encrypts infile to outfile via AES-256 and stores \"broken up\" key in keysfile\n",
    "        1) Reads in plaintext from infile\n",
    "        2) Create AES-256 encoder with 32 random bytes as key\n",
    "        3) Encrypt plaintext\n",
    "        4) Store ciphertext in outfile\n",
    "        5) Split key into via split_key function (Output depends on n and k)\n",
    "        6) Store keys/shares in keysfile\n",
    "        '''\n",
    "\n",
    "        # Read from infile\n",
    "        with open(infile, 'rb') as f:\n",
    "            plain = f.read()\n",
    "\n",
    "        # Create AES-256 encoder with 32 random bytes as key\n",
    "        key = Random.new().read(32)\n",
    "        encoder = AES.new(key, AES.MODE_CTR, counter = Counter.new(128))\n",
    "\n",
    "        # Encrypt plaintext\n",
    "        cipher = encoder.encrypt(plain)\n",
    "        \n",
    "        # Write to outfile\n",
    "        with open(outfile, 'wb') as f:\n",
    "            f.write(cipher)\n",
    "\n",
    "        # Generate n keys\n",
    "        keys = self.split_key(key, n, k)\n",
    "\n",
    "        # Store n keys\n",
    "        with open(keysfile, 'w') as f:\n",
    "            for key in keys:\n",
    "                f.write(\"{}\\n\".format(key))\n",
    "\n",
    "    def encrypt_paillier(self,infile,outfile, keysfile1,keysfile2 ,n, k):\n",
    "        p = 3\n",
    "        m = infile\n",
    "        #m = 10\n",
    "        q = 5\n",
    "        t = p*q\n",
    "        gLambda = lcm(p-1,q-1)  #private\n",
    "        g = t + 1\n",
    "        r = randint(1,t)\n",
    "        l = (pow(g, gLambda)% (t*t)-1)//n\n",
    "        gMu = inverse_of(l, t)\n",
    "        k1 = pow(g, m) % (t*t)\n",
    "        k2 = pow(r, t)% (t*t)\n",
    "        cipher = (k1 * k2) % (t*t)\n",
    "        #cipher = int(cipher).to_bytes(2,byteorder = sys.byteorder)\n",
    "        key1 = int(gLambda).to_bytes(32,byteorder = sys.byteorder)\n",
    "        key2 = int(gMu).to_bytes(32,byteorder = sys.byteorder)\n",
    "        print(\"k1=\",k1,\"k2=\",k2,\"cipher=\",cipher)\n",
    "        \n",
    "        \n",
    "\n",
    "        keys1 = self.split_key(key1,n,k)\n",
    "        keys2 = self.split_key(key2,n,k)\n",
    "\n",
    "   \n",
    "        # Write to outfile\n",
    "        with open(outfile, 'w') as f:\n",
    "            f.write(str(cipher))\n",
    "        # Store n keys\n",
    "        with open(keysfile1, 'w') as f:\n",
    "            for key in keys1:\n",
    "                f.write(\"{}\\n\".format(key))\n",
    "        with open(keysfile2, 'w') as f:\n",
    "            for key in keys2:\n",
    "                f.write(\"{}\\n\".format(key))\n",
    "\n",
    "\n",
    "    def decrypt_paillier(self, infile, outfile, keysfile1,keysfile2):\n",
    "        with open(keysfile1, 'r') as f:\n",
    "            keys1 = f.read().splitlines()\n",
    "        keys1 = [[int(num) for num in key[1:-1].replace(' ', '').split(',')] for key in keys1]\n",
    "        with open(keysfile2, 'r') as f:\n",
    "            keys2 = f.read().splitlines()\n",
    "        keys2 = [[int(num) for num in key[1:-1].replace(' ', '').split(',')] for key in keys2]\n",
    "        self.decrypt_paillier_with_keys(infile,outfile,keys1,keys2)\n",
    "\n",
    "    def decrypt_paillier_with_keys(self, infile, outfile, keys1,keys2):\n",
    "\n",
    "        # Read from infile\n",
    "        with open(infile, 'r') as f:\n",
    "            cipher = f.read()\n",
    "            print(cipher)\n",
    "\n",
    "        try:\n",
    "            # Combine given keys. May throw exception if < k valid keys are given\n",
    "            key1 = self.combine_keys(keys1)\n",
    "            key1=int.from_bytes(key1, byteorder=sys.byteorder)\n",
    "            key2 = self.combine_keys(keys2)\n",
    "            key2=int.from_bytes(key2, byteorder=sys.byteorder)\n",
    "            print(\"key1= \",key1,\"key2= \",key2)\n",
    "            l = ((pow(int(cipher),key1)%225)-1) // 15\n",
    "            plain = (l*key2) % 15\n",
    "            print(plain)\n",
    "            \n",
    "        finally:\n",
    "            # Write to outfile\n",
    "            with open(outfile, 'w') as f:\n",
    "                f.write(str(plain))\n",
    "            #print(plain)\n",
    "\n",
    "    def decrypt(self, infile, outfile, keysfile):\n",
    "        '''\n",
    "        Reads in keys/shares from keysfiles and parse them as a list of keys/shares\n",
    "        '''\n",
    "\n",
    "        # Read from keysfile\n",
    "        with open(keysfile, 'r') as f:\n",
    "            keys = f.read().splitlines()\n",
    "        keys = [[int(num) for num in key[1:-1].replace(' ', '').split(',')] for key in keys]\n",
    "        self.decrypt_with_keys(infile, outfile, keys)\n",
    "\n",
    "    def decrypt_with_keys(self, infile, outfile, keys):\n",
    "        '''\n",
    "        Decrypts infile to outfile via AES-256 with keys\n",
    "        1) Reads in ciphertext from infile\n",
    "        2) Combine keys/shares into a AES-256 key\n",
    "        3) Create AES-256 decoder with combined key\n",
    "        4) Decrypt ciphertext\n",
    "        5) Store plaintext in outfile\n",
    "        '''\n",
    "\n",
    "        # Read from infile\n",
    "        with open(infile, 'rb') as f:\n",
    "            cipher = f.read()\n",
    "\n",
    "        try:\n",
    "            # Combine given keys. May throw exception if < k valid keys are given\n",
    "            key = self.combine_keys(keys)\n",
    "\n",
    "            # Create AES-256 decoder with key\n",
    "            decoder = AES.new(key, AES.MODE_CTR, counter = Counter.new(128))\n",
    "\n",
    "            # Decrypt ciphertext\n",
    "            plain = decoder.decrypt(cipher)\n",
    "        except Exception as e:\n",
    "            plain = str.encode(e.args[0])\n",
    "        finally:\n",
    "            # Write to outfile\n",
    "            with open(outfile, 'wb') as f:\n",
    "                f.write(plain)\n",
    "\n",
    "    ####################\n",
    "    # HELPER FUNCTIONS #\n",
    "    ####################\n",
    "\n",
    "def prod(lst):\n",
    "    '''\n",
    "    Returns the product of all values in the list\n",
    "    '''\n",
    "    return reduce(lambda x, y: x * y, lst)\n",
    "\n",
    "# Source: https://en.wikibooks.org/wiki/Algorithm_Implementation/Mathematics/Extended_Euclidean_algorithm\n",
    "def xgcd(b, n):\n",
    "    '''\n",
    "    Extended gcd (Iterative form)\n",
    "    '''\n",
    "    x0, x1, y0, y1 = 1, 0, 0, 1\n",
    "    while n != 0:\n",
    "        q, b, n = b // n, n, b % n\n",
    "        x0, x1 = x1, x0 - q * x1\n",
    "        y0, y1 = y1, y0 - q * y1\n",
    "    return  b, x0, y0\n",
    "\n",
    "# Source: https://en.wikibooks.org/wiki/Algorithm_Implementation/Mathematics/Extended_Euclidean_algorithm\n",
    "def mulinv(b, n):\n",
    "    '''\n",
    "    Returns the modulo inverse of b in mod n\n",
    "    i.e. x = mulinv(b) mod n, (x * b) % n == 1\n",
    "    '''\n",
    "    g, x, _ = xgcd(b, n)\n",
    "    if g == 1:\n",
    "        return x % n\n",
    "\n",
    "# Source: https://en.wikipedia.org/wiki/Lagrange_polynomial\n",
    "def basis(x, k, j, p):\n",
    "    '''\n",
    "    Computes the basis for Lagrange interpolating polynomial based on the formula\n",
    "    '''\n",
    "    terms = [(0-x[m])*mulinv(x[j] - x[m], p) for m in range(k) if m != j]\n",
    "    return prod(terms) % p\n",
    "\n",
    "\n",
    "#source : https://asecuritysite.com/encryption/pal_ex\n",
    "def gcd(a,b):\n",
    "    \"\"\"Compute the greatest common divisor of a and b\"\"\"\n",
    "    while b > 0:\n",
    "        a, b = b, a % b\n",
    "    return a\n",
    "    \n",
    "def lcm(a, b):\n",
    "    \"\"\"Compute the lowest common multiple of a and b\"\"\"\n",
    "    return a * b / gcd(a, b)\n",
    "\n",
    "def extended_euclidean_algorithm(a, b):\n",
    "    \"\"\"\n",
    "    Returns a three-tuple (gcd, x, y) such that\n",
    "    a * x + b * y == gcd, where gcd is the greatest\n",
    "    common divisor of a and b.\n",
    "\n",
    "    This function implements the extended Euclidean\n",
    "    algorithm and runs in O(log b) in the worst case.\n",
    "    \"\"\"\n",
    "    s, old_s = 0, 1\n",
    "    t, old_t = 1, 0\n",
    "    r, old_r = b, a\n",
    "\n",
    "    while r != 0:\n",
    "        quotient = old_r // r\n",
    "        old_r, r = r, old_r - quotient * r\n",
    "        old_s, s = s, old_s - quotient * s\n",
    "        old_t, t = t, old_t - quotient * t\n",
    "\n",
    "    return old_r, old_s, old_t\n",
    "\n",
    "\n",
    "def inverse_of(n, p):\n",
    "    \"\"\"\n",
    "    Returns the multiplicative inverse of\n",
    "    n modulo p.\n",
    "\n",
    "    This function returns an integer m such that\n",
    "    (n * m) % p == 1.\n",
    "    \"\"\"\n",
    "    gcd, x, y = extended_euclidean_algorithm(n, p)\n",
    "    assert (n * x + p * y) % p == gcd\n",
    "\n",
    "    if gcd != 1:\n",
    "        # Either n is 0, or p is not a prime number.\n",
    "        raise ValueError(\n",
    "            '{} has no multiplicative inverse '\n",
    "            'modulo {}'.format(n, p))\n",
    "    else:\n",
    "        return x % p\n",
    "\n",
    "def L(x,n):\n",
    "\treturn ((x-1)//n)\n"
   ]
  },
  {
   "cell_type": "code",
   "execution_count": 0,
   "metadata": {
    "colab": {
     "base_uri": "https://localhost:8080/",
     "height": 35
    },
    "colab_type": "code",
    "executionInfo": {
     "elapsed": 682,
     "status": "ok",
     "timestamp": 1579963682241,
     "user": {
      "displayName": "Liao Yi-Chieh",
      "photoUrl": "",
      "userId": "02008147160041177811"
     },
     "user_tz": -480
    },
    "id": "RJTd0javEpxN",
    "outputId": "9c892fb7-2cb5-405f-b735-b67231d805e0"
   },
   "outputs": [
    {
     "name": "stdout",
     "output_type": "stream",
     "text": [
      "in init\n"
     ]
    }
   ],
   "source": [
    "t = secretshare()"
   ]
  },
  {
   "cell_type": "code",
   "execution_count": 0,
   "metadata": {
    "colab": {
     "base_uri": "https://localhost:8080/",
     "height": 35
    },
    "colab_type": "code",
    "executionInfo": {
     "elapsed": 1488,
     "status": "ok",
     "timestamp": 1579963729588,
     "user": {
      "displayName": "Liao Yi-Chieh",
      "photoUrl": "",
      "userId": "02008147160041177811"
     },
     "user_tz": -480
    },
    "id": "V3tyZt83NeaN",
    "outputId": "d120bd83-9eb4-4d6a-8740-edfc2382cc03"
   },
   "outputs": [
    {
     "name": "stdout",
     "output_type": "stream",
     "text": [
      "k1= 151 k2= 224 cipher= 74\n"
     ]
    }
   ],
   "source": [
    "t.encrypt_paillier(10,\"shit.txt\",\"keys1.txt\",\"keys2.txt\",7,5)"
   ]
  },
  {
   "cell_type": "code",
   "execution_count": 0,
   "metadata": {
    "colab": {
     "base_uri": "https://localhost:8080/",
     "height": 159
    },
    "colab_type": "code",
    "executionInfo": {
     "elapsed": 713,
     "status": "ok",
     "timestamp": 1579963730950,
     "user": {
      "displayName": "Liao Yi-Chieh",
      "photoUrl": "",
      "userId": "02008147160041177811"
     },
     "user_tz": -480
    },
    "id": "_jdPJFUZhujc",
    "outputId": "3ec3253c-714f-4399-f548-346937e80be0"
   },
   "outputs": [
    {
     "name": "stdout",
     "output_type": "stream",
     "text": [
      "74\n",
      "[1, 2, 3, 4, 5, 6, 7] [183955446488165767267367997706103673361795404446810101512524357174500072754761, 5147509824276657956811803417685109131518703376726393776790902369977894952772, 200058817576392741870652364337278041328964832023799492501135833588783946444141, 169303715038371831502157395918213165832964716149698909869812988498002812167427, 61885871501560999659819112021000481740244996025243207253230356571889515667655, 80445744830899406925928314861201844245808118436556610971204575044390741256979, 18092224515653519962290454974679333229852398022506756135130592877492315455124]\n",
      "cobine: 4\n",
      "[1, 2, 3, 4, 5, 6, 7] [193647337535349443534896601772479830857983117366977708713701394943661338595370, 205588319757890212682304196542104660493783711590180596508113603211552699705801, 227930514909827222211127773406574292432673278807026707569445540083614936686566, 64915089375727923818993076625141616670044068317676340937528466738364358794978, 59253521581051869520814485688115872497568959910156562821476662316197768309508, 165790888093621148260227135247359385677041586535236694284026751856087423410669, 183090042098252776756728885133663384146916303637709439320452874311407297460795]\n",
      "cobine: 2\n",
      "key1=  4 key2=  2\n",
      "5\n"
     ]
    }
   ],
   "source": [
    "t.decrypt_paillier(\"shit.txt\",\"god.txt\",\"keys1.txt\",\"keys2.txt\")"
   ]
  },
  {
   "cell_type": "code",
   "execution_count": 0,
   "metadata": {
    "colab": {},
    "colab_type": "code",
    "id": "CNcLqQnii_QJ"
   },
   "outputs": [],
   "source": [
    "t.encrypt(\"lenna.png\",\"cipher.png\",\"2020_1_21.txt\",10,5)"
   ]
  },
  {
   "cell_type": "code",
   "execution_count": 0,
   "metadata": {
    "colab": {},
    "colab_type": "code",
    "id": "O8JbRHsJjQ_o"
   },
   "outputs": [],
   "source": [
    "t.decrypt(\"cipher.png\",\"new1.png\",\"2020_1_21.txt\")"
   ]
  },
  {
   "cell_type": "code",
   "execution_count": 0,
   "metadata": {
    "colab": {
     "base_uri": "https://localhost:8080/",
     "height": 35
    },
    "colab_type": "code",
    "executionInfo": {
     "elapsed": 672,
     "status": "ok",
     "timestamp": 1579602211901,
     "user": {
      "displayName": "Liao Yi-Chieh",
      "photoUrl": "",
      "userId": "02008147160041177811"
     },
     "user_tz": -480
    },
    "id": "Mrii4YaxM9UQ",
    "outputId": "253c72c6-e59d-4e6d-9726-b54f57cbf51a"
   },
   "outputs": [
    {
     "name": "stdout",
     "output_type": "stream",
     "text": [
      "b\"unsupported operand type(s) for ** or pow(): 'bytes' and 'bytes'\"\n"
     ]
    }
   ],
   "source": [
    "t.decrypt_paillier(\"output.png\",\"jacky.png\",\"first.txt\",\"second.txt\")\n"
   ]
  },
  {
   "cell_type": "code",
   "execution_count": 2,
   "metadata": {
    "colab": {
     "base_uri": "https://localhost:8080/",
     "height": 131
    },
    "colab_type": "code",
    "executionInfo": {
     "elapsed": 693,
     "status": "error",
     "timestamp": 1582294073617,
     "user": {
      "displayName": "Liao Yi-Chieh",
      "photoUrl": "",
      "userId": "02008147160041177811"
     },
     "user_tz": -480
    },
    "id": "R-vVO_e6mRnD",
    "outputId": "cdc7b17b-e186-44dd-dc47-b2a58ecd01e4"
   },
   "outputs": [
    {
     "ename": "SyntaxError",
     "evalue": "ignored",
     "output_type": "error",
     "traceback": [
      "\u001b[0;36m  File \u001b[0;32m\"<ipython-input-2-53e794997658>\"\u001b[0;36m, line \u001b[0;32m1\u001b[0m\n\u001b[0;31m    sudo pip install pycrypto\u001b[0m\n\u001b[0m           ^\u001b[0m\n\u001b[0;31mSyntaxError\u001b[0m\u001b[0;31m:\u001b[0m invalid syntax\n"
     ]
    }
   ],
   "source": [
    "sudo pip install pycrypto"
   ]
  },
  {
   "cell_type": "code",
   "execution_count": 0,
   "metadata": {
    "colab": {},
    "colab_type": "code",
    "id": "pnVAQ3qPE33i"
   },
   "outputs": [],
   "source": []
  }
 ],
 "metadata": {
  "colab": {
   "authorship_tag": "ABX9TyNM/blQ0Tf1eQGaKWuZI+SI",
   "name": "secretshare.ipynb",
   "provenance": [],
   "toc_visible": true
  },
  "kernelspec": {
   "display_name": "Python 3",
   "language": "python",
   "name": "python3"
  },
  "language_info": {
   "codemirror_mode": {
    "name": "ipython",
    "version": 3
   },
   "file_extension": ".py",
   "mimetype": "text/x-python",
   "name": "python",
   "nbconvert_exporter": "python",
   "pygments_lexer": "ipython3",
   "version": "3.7.4"
  }
 },
 "nbformat": 4,
 "nbformat_minor": 1
}
